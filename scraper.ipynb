{
 "cells": [
  {
   "cell_type": "markdown",
   "metadata": {},
   "source": [
    "## Scrape episode transcripts from the wiki page"
   ]
  },
  {
   "cell_type": "code",
   "execution_count": 1,
   "metadata": {
    "collapsed": true
   },
   "outputs": [],
   "source": [
    "import requests\n",
    "from bs4 import BeautifulSoup\n",
    "\n",
    "url = 'http://rickandmorty.wikia.com/wiki/List_of_episodes'\n",
    "\n",
    "def get_links(url):\n",
    "    links = []\n",
    "    resp = requests.get(url)\n",
    "    if resp.status_code != 200:\n",
    "        return None\n",
    "    soup = BeautifulSoup(resp.text, \"lxml\")\n",
    "    for table in soup.find_all('table'):\n",
    "        for link in table.find_all('a',href=True):\n",
    "            if link.has_attr('title'):\n",
    "                links.append('http://rickandmorty.wikia.com' + link['href'])\n",
    "    return links\n",
    "    \n",
    "link = get_links(url)"
   ]
  },
  {
   "cell_type": "markdown",
   "metadata": {},
   "source": [
    "## Extract episode transcripts using links"
   ]
  },
  {
   "cell_type": "code",
   "execution_count": 2,
   "metadata": {
    "collapsed": true
   },
   "outputs": [],
   "source": [
    "import re\n",
    "\n",
    "def get_transcript(url, character):\n",
    "    char_lines = []\n",
    "    \n",
    "    url_new = url + '/Transcript'\n",
    "    resp = requests.get(url_new)\n",
    "    if resp.status_code != 200:\n",
    "        return []\n",
    "    soup = BeautifulSoup(resp.text, \"lxml\")\n",
    "    if soup.find('p'):\n",
    "        script = soup.find('p').text\n",
    "    else:\n",
    "        return []\n",
    "    lines = script.split('\\n')\n",
    "    \n",
    "    for i, line in enumerate(lines):\n",
    "        pattern = re.compile('^'+character)\n",
    "        if re.match(pattern, line):\n",
    "            char_lines.append(line.replace(u'\\xa0', ' '))\n",
    "    return char_lines\n",
    "\n",
    "transcript = get_transcript(link[0], 'Rick')"
   ]
  },
  {
   "cell_type": "code",
   "execution_count": 3,
   "metadata": {
    "collapsed": true,
    "scrolled": false
   },
   "outputs": [],
   "source": [
    "def compile_transcripts(character):\n",
    "    quote_list = []\n",
    "    url = 'http://rickandmorty.wikia.com/wiki/List_of_episodes'\n",
    "    links = list(set(get_links(url)))\n",
    "    for link in links:\n",
    "        quote_list.extend(get_transcript(link, character))\n",
    "    return quote_list\n",
    "\n",
    "quotes = compile_transcripts('Rick')"
   ]
  },
  {
   "cell_type": "markdown",
   "metadata": {},
   "source": [
    "## Parsing"
   ]
  },
  {
   "cell_type": "code",
   "execution_count": 53,
   "metadata": {
    "collapsed": true
   },
   "outputs": [],
   "source": [
    "def parse_quotes(quotes):\n",
    "    new_quotes = []\n",
    "    for quote in quotes:\n",
    "        #change everything to lowercase and remove \"<character>: \" from beginning\n",
    "        n_txt = ': '.join(quote.split(': ')[1:])#.lower()\n",
    "        \n",
    "        #remove text between asterisks (corresponds to actions, not quotes)\n",
    "        n_txt2 = ''\n",
    "        flip = True\n",
    "        for char in n_txt:\n",
    "            if char == '*':\n",
    "                flip = not flip\n",
    "            if flip:\n",
    "                n_txt2 += char\n",
    "        \n",
    "        n_txt2 = n_txt2.replace('…','').replace('*', '').replace('\\n','')\n",
    "        #strip newlines and asterisks from quote\n",
    "        new_quotes.append(n_txt2)\n",
    "    return new_quotes\n",
    "\n",
    "n_quotes = parse_quotes(quotes)"
   ]
  },
  {
   "cell_type": "code",
   "execution_count": 79,
   "metadata": {
    "collapsed": true
   },
   "outputs": [],
   "source": [
    "quotes = compile_transcripts('')\n",
    "n_quotes = parse_quotes(quotes)"
   ]
  },
  {
   "cell_type": "code",
   "execution_count": 80,
   "metadata": {},
   "outputs": [
    {
     "data": {
      "text/plain": [
       "12587"
      ]
     },
     "execution_count": 80,
     "metadata": {},
     "output_type": "execute_result"
    }
   ],
   "source": [
    "#total words for that character\n",
    "sum([len(n.split(' ')) for n in n_quotes])"
   ]
  },
  {
   "cell_type": "markdown",
   "metadata": {},
   "source": [
    "## Building a Markov Chain"
   ]
  },
  {
   "cell_type": "code",
   "execution_count": 87,
   "metadata": {},
   "outputs": [
    {
     "name": "stdout",
     "output_type": "stream",
     "text": [
      "Okay, I'll talk about your family, you blame him? Come on, Terry, there is that song!\n",
      "What, I'm a new experiences.\n",
      "Whoa, whoa, whoa! What's wrong?\n",
      "No. D-Do we have you. Those are you, too, very --\n"
     ]
    }
   ],
   "source": [
    "import markovify\n",
    "\n",
    "text_model = markovify.NewlineText('\\n'.join(n_quotes),state_size=1)\n",
    "\n",
    "for i in range(4):\n",
    "    #tweet = text_model.make_sentence()\n",
    "    tweet = text_model.make_short_sentence(140)\n",
    "    tweet = tweet[0].upper() + tweet[1:]\n",
    "    print(tweet)"
   ]
  },
  {
   "cell_type": "code",
   "execution_count": 57,
   "metadata": {
    "collapsed": true
   },
   "outputs": [],
   "source": [
    "#Save lines to text for later usage\n",
    "\n",
    "with open('morty.txt', 'w') as f:\n",
    "    for line in n_quotes:\n",
    "        f.write(line + '\\n')"
   ]
  }
 ],
 "metadata": {
  "kernelspec": {
   "display_name": "Python 3",
   "language": "python",
   "name": "python3"
  },
  "language_info": {
   "codemirror_mode": {
    "name": "ipython",
    "version": 3
   },
   "file_extension": ".py",
   "mimetype": "text/x-python",
   "name": "python",
   "nbconvert_exporter": "python",
   "pygments_lexer": "ipython3",
   "version": "3.6.2"
  }
 },
 "nbformat": 4,
 "nbformat_minor": 2
}
